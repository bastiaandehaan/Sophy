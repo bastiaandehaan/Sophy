{
 "cells": [
  {
   "metadata": {},
   "cell_type": "markdown",
   "source": "",
   "id": "311c97a56d6067a7"
  },
  {
   "metadata": {},
   "cell_type": "markdown",
   "source": [
    "# TurtleTrader Validatie & Verificatie Notebook\n",
    "\n",
    "Dit uitgebreide validatienotebook is ontworpen om de TurtleTrader-strategie grondig te testen voordat we echt kapitaal inzetten. We voeren de volgende validaties uit:\n",
    "\n",
    "1. MT5-verbinding en data-ophaling\n",
    "2. Datakwaliteitsbeoordeling (gaten, uitschieters, integriteit)\n",
    "3. Validatie van strategie-indicatorberekeningen\n",
    "4. Identificatie van handelssignalen\n",
    "5. Realistische backtesting met transactiekosten en slippage\n",
    "6. Gedetailleerde drawdown-analyse met duurmetrieken\n",
    "7. Robuuste parameteroptimalisatie met in-sample en out-of-sample tests\n",
    "8. Prestatievergelijking tussen verschillende marktomstandigheden"
   ],
   "id": "2a71dece84db7545"
  },
  {
   "metadata": {
    "ExecuteTime": {
     "end_time": "2025-03-01T13:38:06.689902Z",
     "start_time": "2025-03-01T13:38:06.673947Z"
    }
   },
   "cell_type": "code",
   "source": [
    "# CODE CEL - 1: Imports en configuratie\n",
    "import sys\n",
    "import os\n",
    "import json\n",
    "import traceback\n",
    "from datetime import datetime, timedelta\n",
    "import numpy as np\n",
    "import pandas as pd\n",
    "import matplotlib.pyplot as plt\n",
    "import matplotlib.dates as mdates\n",
    "import seaborn as sns\n",
    "from scipy import stats\n",
    "import MetaTrader5 as mt5\n",
    "from sklearn.model_selection import TimeSeriesSplit\n",
    "\n",
    "# Add the project path to the system path to enable imports\n",
    "# Determine the absolute path to the project root\n",
    "notebook_dir = os.path.abspath('')\n",
    "project_path = os.path.abspath(os.path.join(notebook_dir, '..'))\n",
    "print(f\"Using project path: {project_path}\")\n",
    "sys.path.append(project_path)\n",
    "\n",
    "# Import TurtleTrader modules\n",
    "try:\n",
    "    from modules.mt5_connector import MT5Connector\n",
    "    from modules.strategy import TurtleStrategy\n",
    "    from modules.risk_manager import RiskManager\n",
    "    print(\"✅ TurtleTrader modules successfully imported\")\n",
    "except ImportError as e:\n",
    "    print(f\"❌ Error importing TurtleTrader modules: {e}\")\n",
    "    print(\"Ensure your project path is correct and all required modules exist\")\n",
    "\n",
    "# Configure visualization settings\n",
    "plt.style.use('ggplot')\n",
    "plt.rcParams['figure.figsize'] = (16, 9)\n",
    "plt.rcParams['lines.linewidth'] = 1.5\n",
    "sns.set_style(\"whitegrid\")\n",
    "\n",
    "# Enable error stack trace display\n",
    "def display_error(e):\n",
    "    \"\"\"Display detailed error information\"\"\"\n",
    "    print(f\"\\n❌ ERROR: {type(e).__name__}: {e}\")\n",
    "    traceback.print_exc()\n",
    "    print(\"\\nPlease check the error details above and fix the issue before continuing.\")"
   ],
   "id": "3af6697395f9e738",
   "outputs": [
    {
     "name": "stdout",
     "output_type": "stream",
     "text": [
      "Using project path: C:\\Users\\basti\\PycharmProjects\n",
      "✅ TurtleTrader modules successfully imported\n"
     ]
    }
   ],
   "execution_count": 13
  },
  {
   "metadata": {
    "ExecuteTime": {
     "end_time": "2025-03-01T13:38:12.154970Z",
     "start_time": "2025-03-01T13:38:12.146961Z"
    }
   },
   "cell_type": "code",
   "source": [
    "# CODE CEL - 1: Imports en configuratie\n",
    "import sys\n",
    "import os\n",
    "import json\n",
    "import traceback\n",
    "from datetime import datetime, timedelta\n",
    "import numpy as np\n",
    "import pandas as pd\n",
    "import matplotlib.pyplot as plt\n",
    "import matplotlib.dates as mdates\n",
    "import seaborn as sns\n",
    "from scipy import stats\n",
    "import MetaTrader5 as mt5\n",
    "from sklearn.model_selection import TimeSeriesSplit\n",
    "\n",
    "# Add the project path to the system path to enable imports\n",
    "# Adjust this to your project path if needed\n",
    "project_path = \"../..\"\n",
    "sys.path.append(project_path)\n",
    "\n",
    "# Import TurtleTrader modules\n",
    "try:\n",
    "    from modules.mt5_connector import MT5Connector\n",
    "    from modules.strategy import TurtleStrategy\n",
    "    from modules.risk_manager import RiskManager\n",
    "    print(\"✅ TurtleTrader modules successfully imported\")\n",
    "except ImportError as e:\n",
    "    print(f\"❌ Error importing TurtleTrader modules: {e}\")\n",
    "    print(\"Ensure your project path is correct and all required modules exist\")\n",
    "\n",
    "# Configure visualization settings\n",
    "plt.style.use('ggplot')\n",
    "plt.rcParams['figure.figsize'] = (16, 9)\n",
    "plt.rcParams['lines.linewidth'] = 1.5\n",
    "sns.set_style(\"whitegrid\")\n",
    "\n",
    "# Enable error stack trace display\n",
    "def display_error(e):\n",
    "    \"\"\"Display detailed error information\"\"\"\n",
    "    print(f\"\\n❌ ERROR: {type(e).__name__}: {e}\")\n",
    "    traceback.print_exc()\n",
    "    print(\"\\nPlease check the error details above and fix the issue before continuing.\")"
   ],
   "id": "9a17711cb6a16aed",
   "outputs": [
    {
     "name": "stdout",
     "output_type": "stream",
     "text": [
      "✅ TurtleTrader modules successfully imported\n"
     ]
    }
   ],
   "execution_count": 14
  },
  {
   "metadata": {},
   "cell_type": "markdown",
   "source": [
    "# CODE CEL - 3: Connect to MT5\n",
    "# Connect to MT5 using the project's connector"
   ],
   "id": "2825de74827d6ee5"
  },
  {
   "metadata": {
    "ExecuteTime": {
     "end_time": "2025-03-01T13:41:07.610324Z",
     "start_time": "2025-03-01T13:41:07.599274Z"
    }
   },
   "cell_type": "code",
   "source": [
    "# CODE CEL - 2: Load configuration\n",
    "# Load settings from the TurtleTrader config file\n",
    "def load_config(config_path):\n",
    "    \"\"\"Load configuration from JSON file with error handling\"\"\"\n",
    "    try:\n",
    "        with open(config_path, 'r') as f:\n",
    "            config = json.load(f)\n",
    "        return config\n",
    "    except FileNotFoundError:\n",
    "        raise FileNotFoundError(f\"Configuration file not found at {config_path}. Please check the path.\")\n",
    "    except json.JSONDecodeError:\n",
    "        raise ValueError(f\"Invalid JSON in configuration file {config_path}. Please check the file format.\")\n",
    "\n",
    "try:\n",
    "    # Use the notebook directory as the project directory since the notebook is already in the project root\n",
    "    notebook_dir = os.path.abspath('')\n",
    "    project_dir = notebook_dir  # Don't go up a level, we're already in the project root\n",
    "\n",
    "    print(f\"Notebook directory: {notebook_dir}\")\n",
    "    print(f\"Project directory: {project_dir}\")\n",
    "\n",
    "    # Build the path to the configuration file\n",
    "    config_path = os.path.join(project_dir, 'config', 'turtle_settings.json')\n",
    "    print(f\"Looking for configuration at: {config_path}\")\n",
    "\n",
    "    # Check if the file exists\n",
    "    if not os.path.exists(config_path):\n",
    "        print(f\"⚠️ Configuration file not found at the expected location.\")\n",
    "        print(f\"Let's check the directory structure:\")\n",
    "\n",
    "        # List directories to help debugging\n",
    "        project_contents = os.listdir(project_dir)\n",
    "        print(f\"Contents of {project_dir}:\")\n",
    "        for item in project_contents:\n",
    "            if os.path.isdir(os.path.join(project_dir, item)):\n",
    "                print(f\"  📁 {item}/\")\n",
    "            else:\n",
    "                print(f\"  📄 {item}\")\n",
    "\n",
    "    # Load the configuration\n",
    "    config = load_config(config_path)\n",
    "\n",
    "    print(\"TurtleTrader Configuration:\")\n",
    "    print(f\"Broker: {config['mt5']['server']}\")\n",
    "    print(f\"Symbols: {config['mt5']['symbols']}\")\n",
    "    print(f\"Risk per trade: {config['mt5']['risk_per_trade'] * 100}%\")\n",
    "    if 'symbol_mapping' in config['mt5']:\n",
    "        print(f\"Symbol mapping: {config['mt5']['symbol_mapping']}\")\n",
    "except Exception as e:\n",
    "    display_error(e)"
   ],
   "id": "fad281708bd1b3d2",
   "outputs": [
    {
     "name": "stdout",
     "output_type": "stream",
     "text": [
      "Notebook directory: C:\\Users\\basti\\PycharmProjects\\TurtleTrader\n",
      "Project directory: C:\\Users\\basti\\PycharmProjects\\TurtleTrader\n",
      "Looking for configuration at: C:\\Users\\basti\\PycharmProjects\\TurtleTrader\\config\\turtle_settings.json\n",
      "TurtleTrader Configuration:\n",
      "Broker: FTMO-Demo2\n",
      "Symbols: ['EURUSD', 'XAUUSD', 'US30']\n",
      "Risk per trade: 1.0%\n",
      "Symbol mapping: {'US30': 'US30.cash'}\n"
     ]
    }
   ],
   "execution_count": 16
  },
  {
   "metadata": {},
   "cell_type": "code",
   "source": "",
   "id": "aa15b2d30f33da20",
   "outputs": [],
   "execution_count": null
  }
 ],
 "metadata": {
  "kernelspec": {
   "name": "python3",
   "language": "python",
   "display_name": "Python 3 (ipykernel)"
  }
 },
 "nbformat": 5,
 "nbformat_minor": 9
}
