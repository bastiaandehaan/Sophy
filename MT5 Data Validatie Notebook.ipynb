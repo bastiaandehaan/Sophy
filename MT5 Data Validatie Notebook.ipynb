{
 "cells": [
  {
   "metadata": {},
   "cell_type": "markdown",
   "source": "",
   "id": "311c97a56d6067a7"
  },
  {
   "metadata": {},
   "cell_type": "markdown",
   "source": [
    "# TurtleTrader Validatie & Verificatie Notebook\n",
    "\n",
    "Dit uitgebreide validatienotebook is ontworpen om de TurtleTrader-strategie grondig te testen voordat we echt kapitaal inzetten. We voeren de volgende validaties uit:\n",
    "\n",
    "1. MT5-verbinding en data-ophaling\n",
    "2. Datakwaliteitsbeoordeling (gaten, uitschieters, integriteit)\n",
    "3. Validatie van strategie-indicatorberekeningen\n",
    "4. Identificatie van handelssignalen\n",
    "5. Realistische backtesting met transactiekosten en slippage\n",
    "6. Gedetailleerde drawdown-analyse met duurmetrieken\n",
    "7. Robuuste parameteroptimalisatie met in-sample en out-of-sample tests\n",
    "8. Prestatievergelijking tussen verschillende marktomstandigheden"
   ],
   "id": "2a71dece84db7545"
  },
  {
   "metadata": {
    "ExecuteTime": {
     "end_time": "2025-03-01T12:13:24.589857Z",
     "start_time": "2025-03-01T12:13:24.571581Z"
    }
   },
   "cell_type": "code",
   "source": [
    "import sys\n",
    "import os\n",
    "import json\n",
    "import traceback\n",
    "from datetime import datetime, timedelta\n",
    "import numpy as np\n",
    "import pandas as pd\n",
    "import matplotlib.pyplot as plt\n",
    "import matplotlib.dates as mdates\n",
    "import seaborn as sns\n",
    "from scipy import stats\n",
    "import MetaTrader5 as mt5\n",
    "from sklearn.model_selection import TimeSeriesSplit\n",
    "\n",
    "# Add the project path to the system path to enable imports\n",
    "# Adjust this to your project path if needed\n",
    "project_path = \"..\"\n",
    "sys.path.append(project_path)\n",
    "\n",
    "# Import TurtleTrader modules\n",
    "try:\n",
    "    from modules.mt5_connector import MT5Connector\n",
    "    from modules.strategy import TurtleStrategy\n",
    "    from modules.risk_manager import RiskManager\n",
    "    print(\"✅ TurtleTrader modules successfully imported\")\n",
    "except ImportError as e:\n",
    "    print(f\"❌ Error importing TurtleTrader modules: {e}\")\n",
    "    print(\"Ensure your project path is correct and all required modules exist\")\n",
    "\n",
    "# Configure visualization settings\n",
    "plt.style.use('ggplot')\n",
    "plt.rcParams['figure.figsize'] = (16, 9)\n",
    "plt.rcParams['lines.linewidth'] = 1.5\n",
    "sns.set_style(\"whitegrid\")\n",
    "\n",
    "# Enable error stack trace display\n",
    "def display_error(e):\n",
    "    \"\"\"Display detailed error information\"\"\"\n",
    "    print(f\"\\n❌ ERROR: {type(e).__name__}: {e}\")\n",
    "    traceback.print_exc()\n",
    "    print(\"\\nPlease check the error details above and fix the issue before continuing.\")"
   ],
   "id": "3af6697395f9e738",
   "outputs": [
    {
     "name": "stdout",
     "output_type": "stream",
     "text": [
      "✅ TurtleTrader modules successfully imported\n"
     ]
    }
   ],
   "execution_count": 3
  },
  {
   "metadata": {
    "ExecuteTime": {
     "end_time": "2025-03-01T12:13:24.679186Z",
     "start_time": "2025-03-01T12:13:24.659006Z"
    }
   },
   "cell_type": "code",
   "source": [
    "# CODE CEL - 1: Imports en configuratie\n",
    "import sys\n",
    "import os\n",
    "import json\n",
    "import traceback\n",
    "from datetime import datetime, timedelta\n",
    "import numpy as np\n",
    "import pandas as pd\n",
    "import matplotlib.pyplot as plt\n",
    "import matplotlib.dates as mdates\n",
    "import seaborn as sns\n",
    "from scipy import stats\n",
    "import MetaTrader5 as mt5\n",
    "from sklearn.model_selection import TimeSeriesSplit\n",
    "\n",
    "# Add the project path to the system path to enable imports\n",
    "# Adjust this to your project path if needed\n",
    "project_path = \"..\"\n",
    "sys.path.append(project_path)\n",
    "\n",
    "# Import TurtleTrader modules\n",
    "try:\n",
    "    from modules.mt5_connector import MT5Connector\n",
    "    from modules.strategy import TurtleStrategy\n",
    "    from modules.risk_manager import RiskManager\n",
    "    print(\"✅ TurtleTrader modules successfully imported\")\n",
    "except ImportError as e:\n",
    "    print(f\"❌ Error importing TurtleTrader modules: {e}\")\n",
    "    print(\"Ensure your project path is correct and all required modules exist\")\n",
    "\n",
    "# Configure visualization settings\n",
    "plt.style.use('ggplot')\n",
    "plt.rcParams['figure.figsize'] = (16, 9)\n",
    "plt.rcParams['lines.linewidth'] = 1.5\n",
    "sns.set_style(\"whitegrid\")\n",
    "\n",
    "# Enable error stack trace display\n",
    "def display_error(e):\n",
    "    \"\"\"Display detailed error information\"\"\"\n",
    "    print(f\"\\n❌ ERROR: {type(e).__name__}: {e}\")\n",
    "    traceback.print_exc()\n",
    "    print(\"\\nPlease check the error details above and fix the issue before continuing.\")"
   ],
   "id": "9a17711cb6a16aed",
   "outputs": [
    {
     "name": "stdout",
     "output_type": "stream",
     "text": [
      "✅ TurtleTrader modules successfully imported\n"
     ]
    }
   ],
   "execution_count": 4
  },
  {
   "metadata": {},
   "cell_type": "markdown",
   "source": [
    "# CODE CEL - 3: Connect to MT5\n",
    "# Connect to MT5 using the project's connector"
   ],
   "id": "2825de74827d6ee5"
  },
  {
   "metadata": {
    "ExecuteTime": {
     "end_time": "2025-03-01T12:30:27.474129Z",
     "start_time": "2025-03-01T12:30:27.142072Z"
    }
   },
   "cell_type": "code",
   "source": [
    "import os\n",
    "import json\n",
    "import traceback\n",
    "from modules.mt5_connector import MT5Connector\n",
    "import MetaTrader5 as mt5\n",
    "\n",
    "# Definieer de functie om config te laden\n",
    "def load_config(config_path):\n",
    "    \"\"\"Load configuration from JSON file with error handling\"\"\"\n",
    "    try:\n",
    "        with open(config_path, 'r') as f:\n",
    "            config = json.load(f)\n",
    "        return config\n",
    "    except FileNotFoundError:\n",
    "        raise FileNotFoundError(f\"Configuration file not found at {config_path}. Please ensure the file exists and the path is correct.\")\n",
    "    except json.JSONDecodeError:\n",
    "        raise ValueError(f\"Invalid JSON in configuration file {config_path}. Please check the file format.\")\n",
    "    except Exception as e:\n",
    "        raise Exception(f\"Unexpected error loading config: {e}\")\n",
    "\n",
    "# Stel het pad in (relatief vanuit notebooks/)\n",
    "project_path = os.path.dirname(os.path.dirname(__file__))  # Ga twee levels omhoog naar projectroot\n",
    "config_path = os.path.join(project_path, 'config', 'turtle_settings.json')\n",
    "\n",
    "# Laad de configuratie\n",
    "try:\n",
    "    config = load_config(config_path)\n",
    "    print(\"✅ Configuration loaded successfully:\")\n",
    "    print(f\"Server: {config['mt5']['server']}\")\n",
    "    print(f\"Login: {config['mt5']['login']}\")\n",
    "    print(f\"Symbols: {config['mt5']['symbols']}\")\n",
    "except Exception as e:\n",
    "    print(f\"❌ Error loading config: {e}\")\n",
    "    raise\n",
    "\n",
    "# Probeer verbinding te maken met MT5\n",
    "try:\n",
    "    # Initialize connector met de mt5-configuratie\n",
    "    connector = MT5Connector(config['mt5'])\n",
    "    connected = connector.connect()\n",
    "\n",
    "    if connected:\n",
    "        print(\"✅ MT5 connection successful!\")\n",
    "        account_info = connector.get_account_info()\n",
    "        print(f\"Account balance: {account_info['balance']}\")\n",
    "        print(f\"Account equity: {account_info['equity']}\")\n",
    "        print(f\"Connected to server: {mt5.account_info().server}\")\n",
    "    else:\n",
    "        print(\"❌ Failed to connect to MT5. Check credentials and server.\")\n",
    "except Exception as e:\n",
    "    def display_error(e):\n",
    "        \"\"\"Display detailed error information\"\"\"\n",
    "        print(f\"\\n❌ ERROR: {type(e).__name__}: {e}\")\n",
    "        traceback.print_exc()\n",
    "        print(\"\\nPlease check the error details above and fix the issue before continuing.\")\n",
    "    display_error(e)"
   ],
   "id": "fad281708bd1b3d2",
   "outputs": [
    {
     "ename": "NameError",
     "evalue": "name '__file__' is not defined",
     "output_type": "error",
     "traceback": [
      "\u001B[31m---------------------------------------------------------------------------\u001B[39m",
      "\u001B[31mNameError\u001B[39m                                 Traceback (most recent call last)",
      "\u001B[36mCell\u001B[39m\u001B[36m \u001B[39m\u001B[32mIn[9]\u001B[39m\u001B[32m, line 22\u001B[39m\n\u001B[32m     19\u001B[39m         \u001B[38;5;28;01mraise\u001B[39;00m \u001B[38;5;167;01mException\u001B[39;00m(\u001B[33mf\u001B[39m\u001B[33m\"\u001B[39m\u001B[33mUnexpected error loading config: \u001B[39m\u001B[38;5;132;01m{\u001B[39;00me\u001B[38;5;132;01m}\u001B[39;00m\u001B[33m\"\u001B[39m)\n\u001B[32m     21\u001B[39m \u001B[38;5;66;03m# Stel het pad in (relatief vanuit notebooks/)\u001B[39;00m\n\u001B[32m---> \u001B[39m\u001B[32m22\u001B[39m project_path = os.path.dirname(os.path.dirname(\u001B[34;43m__file__\u001B[39;49m))  \u001B[38;5;66;03m# Ga twee levels omhoog naar projectroot\u001B[39;00m\n\u001B[32m     23\u001B[39m config_path = os.path.join(project_path, \u001B[33m'\u001B[39m\u001B[33mconfig\u001B[39m\u001B[33m'\u001B[39m, \u001B[33m'\u001B[39m\u001B[33mturtle_settings.json\u001B[39m\u001B[33m'\u001B[39m)\n\u001B[32m     25\u001B[39m \u001B[38;5;66;03m# Laad de configuratie\u001B[39;00m\n",
      "\u001B[31mNameError\u001B[39m: name '__file__' is not defined"
     ]
    }
   ],
   "execution_count": 9
  }
 ],
 "metadata": {
  "kernelspec": {
   "name": "python3",
   "language": "python",
   "display_name": "Python 3 (ipykernel)"
  }
 },
 "nbformat": 5,
 "nbformat_minor": 9
}
